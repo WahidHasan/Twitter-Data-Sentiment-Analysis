{
 "cells": [
  {
   "cell_type": "code",
   "execution_count": 109,
   "metadata": {},
   "outputs": [
    {
     "name": "stdout",
     "output_type": "stream",
     "text": [
      "[nltk_data] Downloading package stopwords to\n",
      "[nltk_data]     C:\\Users\\Lenovo\\AppData\\Roaming\\nltk_data...\n",
      "[nltk_data]   Package stopwords is already up-to-date!\n"
     ]
    }
   ],
   "source": [
    "import numpy as np\n",
    "import pandas as pd\n",
    "import tweepy\n",
    "import math\n",
    "import json\n",
    "from textblob import TextBlob\n",
    "import matplotlib.pyplot as plt\n",
    "import re\n",
    "import nltk\n",
    "nltk.download('stopwords')\n",
    "from nltk.corpus import stopwords\n",
    "from nltk.stem.porter import PorterStemmer\n",
    "%matplotlib inline\n",
    "import seaborn as sns"
   ]
  },
  {
   "cell_type": "code",
   "execution_count": 110,
   "metadata": {},
   "outputs": [],
   "source": [
    "def percentage(part, whole):\n",
    "  return 100* (float(part)/float(whole)) \n",
    "consumer_key ='MqL6H8HqwJF9uzgruxzwvFxqZ'\n",
    "consumer_secret='5QCJQ0sIQdDXvXdhRdo2xrEnfo3y5AUSW5hKD2Ze9FREjM7Flq'\n",
    "access_token='303034057-0TKtDa4Cc5ktljoVPqzqAIjN12ndMAOUjlJK0ANP'\n",
    "access_token_secret='oAhFhKtluflyJYUvFzIBDLiNh6zwES9V3hyS5gXIGUWfG'\n",
    "auth = tweepy.OAuthHandler(consumer_key,consumer_secret)\n",
    "auth.set_access_token(access_token,access_token_secret)\n",
    "api = tweepy.API(auth)\n"
   ]
  },
  {
   "cell_type": "code",
   "execution_count": 111,
   "metadata": {},
   "outputs": [
    {
     "name": "stdout",
     "output_type": "stream",
     "text": [
      "#Taihape Mt Ruapehu #NouvelleZelande: Feilding's Living Christmas 21 Dec 2018 https://t.co/KFmQ8ZdlM5 https://t.co/8TyCjjYTxj\n",
      "PalmerstonNorth #MtRuapehu #NewZealand: Movie Night and Christmas 21 Dec 2018 https://t.co/RFlIKgTCMM https://t.co/AG8xwyT9ux\n",
      "#Masterton Wairarapa #NewZealand: Christmas Party With Just N Time 21 Dec 2018 https://t.co/HDHkc1Ez8i https://t.co/TdtQDRGPbV\n",
      "#Whangarei Northland #NouvelleZelande: Naughty North Comedy Club - Christmas Special 20 Dec 2018… https://t.co/KxTPgWzTfB\n",
      "#Napier Hawkes Bay #NewZealand: Napier City Christmas Late Night 20 Dec 2018 https://t.co/EAxTAEqWLm https://t.co/hPjNsK9BqR\n",
      "#Christchurch #NewZealand: The Tannery Christmas Market 20 Dec 2018 https://t.co/Y3Ml7duMva https://t.co/OIpIZtae6H\n",
      "#Whangarei Northland #NouvelleZelande: Ruakaka Christmas At the Races 18 Dec 2018 https://t.co/42yBiEgBAb https://t.co/9UJnbWZdH4\n",
      "#Wellington #NouvelleZelande: Counsel in Concert: All I Want for Christmas... 18 Dec 2018 https://t.co/jsF3eKNbdz https://t.co/OrJFGU1YZJ\n",
      "#Tirau Waikato #NewZealand: Matamata Christmas At the Races 19 Dec 2018 https://t.co/IHmToyWsz5 https://t.co/o0TWW93Hdp\n",
      "RT @seomraranga: A Christmas Journey - free seasonal online picture book https://t.co/gTryPM9o6E #edchatie https://t.co/VNLcpa9cII\n",
      "RT @seomraranga: Schnitzel's First Christmas - free seasonal online picture book https://t.co/MZsaNUfqXe #edchatie https://t.co/Sr3JmUmNlB\n",
      "RT @seomraranga: Waldo's Christmas Surprise - an online free seasonal picture book https://t.co/XTVQdeDReT #edchatie https://t.co/F0K95LuxZ7\n",
      "#Auckland #NouvelleZelande: Henderson Christmas Festival 16 Dec 2018 https://t.co/xPZ03nZ5YG https://t.co/PjxIsY1Rs6\n",
      "#Waipara Canterbury #NouvelleZelande: Rangiora Christmas at the Races 16 Dec 2018 https://t.co/h6azDFLKQV https://t.co/SsSrgvG6fJ\n",
      "#Nelson Marlborough #NouvelleZelande: Christmas for The City 16 Dec 2018 https://t.co/snqXDOujW7 https://t.co/e4MIwR5plE\n",
      "#Tauranga Bay of Plenty #NouvelleZelande: Papamoa Christmas Carnival 16 Dec 2018 https://t.co/h8ECGKXJ2X https://t.co/m88qc0IywB\n",
      "#Coromandel #NewZealand: 30th Coromandel Christmas Art Exhibition 16 Dec 2018 - 12 Jan 2019 https://t.co/7a81Vb98pg https://t.co/O3zpmWK1DO\n",
      "A Christmas Journey - free seasonal online picture book https://t.co/gTryPM9o6E #edchatie https://t.co/VNLcpa9cII\n",
      "Schnitzel's First Christmas - free seasonal online picture book https://t.co/MZsaNUfqXe #edchatie https://t.co/Sr3JmUmNlB\n",
      "Waldo's Christmas Surprise - an online free seasonal picture book https://t.co/XTVQdeDReT #edchatie https://t.co/F0K95LuxZ7\n",
      "Dunedin #Otago #NouvelleZelande: Wingatui Christmas At the Races 14 Dec 2018 https://t.co/k8AB9Jg1gc https://t.co/r2YdV9pSGr\n",
      "Kaiwaka #Northland #NewZealand: Christmas Party In the Vines 14 Dec 2018 https://t.co/RCyagnu7tR https://t.co/fTzUF6peqv\n",
      "Stratford #Taranaki #NewZealand: 2018 Stratford Christmas Carols In the Park 14 Dec 2018 https://t.co/yjXrNv4ak9 https://t.co/Vl6DYn20dP\n",
      "Dunedin #Otago #NewZealand: Larnach Castles Naughty Christmas Horror Ball 14 Dec 2018 - 15 Dec 2018… https://t.co/hizcz3eCBe\n",
      "#Wellington #NewZealand: Christmas Market Carols by Candlelight &amp; Supper 14 Dec 2018 https://t.co/iROTjDhGRu https://t.co/PrpHc5lJ0q\n",
      "Anong regalo gusto mong makuha this christmas na di aabot ng 300? — Parang ayoko na kasi ng libro eh hahahaha pero… https://t.co/IjUTZWrBPb\n",
      "#Blenheim Marlborough #NouvelleZelande: Christmas Festival 13 Dec 2018 https://t.co/6RZiUjtJPo https://t.co/zV9vUfOseR\n",
      "RT @NZYourWay: #Auckland #NewZealand: Christmas Lights at MOTAT 13 Dec 2018 - 24 Dec 2018 https://t.co/kz4H4PLxKU https://t.co/qBtwcuG9Ao\n",
      "#Auckland #NewZealand: Christmas Lights at MOTAT 13 Dec 2018 - 24 Dec 2018 https://t.co/kz4H4PLxKU https://t.co/qBtwcuG9Ao\n",
      "New Plymouth #Taranaki #NewZealand: Operatunity: Cinderella - A Christmas Pantomime 14 Dec 2018… https://t.co/nxxtQFIShG\n",
      "#Auckland #NewZealand: Twelve Days of Christmas Market 14 Dec 2018 - 24 Dec 2018 https://t.co/INizrfIWyc https://t.co/Rx2egkW4ie\n",
      "Tauranga #BayofPlenty #NewZealand: Tauranga Twilight Christmas At the Races 14 Dec 2018 https://t.co/4UNjC5N8dH https://t.co/VG4eQqlN6a\n",
      "#Wellington #NouvelleZelande: Christmas 2018 - Join-The-Party! 12 Dec 2018 - 13 Dec 2018 https://t.co/Z3kOgyJKHk https://t.co/BRemNrCvJP\n",
      "#Tokoroa Waikato #NewZealand: Taupo Christmas Classic 13 Dec 2018 - 16 Dec 2018 https://t.co/zt6LLFDoRg https://t.co/ViXZ5Mdxcb\n"
     ]
    }
   ],
   "source": [
    "searchTerm = \"christmas\"\n",
    "neutral = 0\n",
    "negative = 0\n",
    "positive = 0\n",
    "total = 0\n",
    "p = []\n",
    "corpus = []\n",
    "polarity = 0\n",
    "\n",
    "#searchTerm = [\"christmas\",\"india\",\"bng\",\"Trump\",\"moriniho\",\"nadal\",\"messi\",\"ml10\",\"cr7\",\"ronaldo\"] \n",
    "numofSearch = int(100)\n",
    "tweets = tweepy.Cursor(api.search, q=searchTerm, lang=\"English\").items(numofSearch)\n",
    "#numofSearch = int(100)\n",
    "for ch in tweets:\n",
    "        print(ch.text)\n",
    "        review = ch.text\n",
    "        review = review.lower()\n",
    "        review = review.split()\n",
    "        ps = PorterStemmer()\n",
    "        review = [ps.stem(word) for word in review if not word in set(stopwords.words('english'))]\n",
    "        review = ' '.join(review)\n",
    "        analysis = TextBlob(ch.text)\n",
    "        if (analysis.sentiment.polarity ==0):\n",
    "            neutral +=1\n",
    "            total+=1\n",
    "        elif (analysis.sentiment.polarity<0.00):\n",
    "            negative +=1\n",
    "            p.append(-1)\n",
    "            total+=1\n",
    "            corpus.append(review)\n",
    "        elif (analysis.sentiment.polarity>0.00):\n",
    "            positive +=1 \n",
    "            total+=1\n",
    "            p.append(1)\n",
    "            corpus.append(review)\n"
   ]
  },
  {
   "cell_type": "code",
   "execution_count": 112,
   "metadata": {},
   "outputs": [
    {
     "name": "stdout",
     "output_type": "stream",
     "text": [
      "The most dangerous sea bridge in India, click to see https://t.co/o16D8QyIiq\n",
      "The most dangerous sea bridge in India, click to see https://t.co/o16D8QyIiq\n",
      "Amazing gardens in India to visit https://t.co/CmaNoE2PNT\n",
      "8 Most Educated Actresses In India https://t.co/XJQW1Q23ly -- shared by UC Mini\n",
      "‘We won’t let Narendra Modi sleep at night till he waives farm loans all over India’: Rahul Gandhi https://t.co/dh4YziAhBW\n",
      "Australia Level Series 1-1 With a 146-Run Win Over India\n",
      "https://t.co/N7zSQLvECC\n",
      "#INDvAUS #TestCricket #ViratKohli… https://t.co/DXFeMBwDc9\n",
      "@b_k70 @TakedaShingen08 @PandeIndira @TholaRam @watdehel @Khushal26378475 @AvijitSinha5 @sudhirkaveri @WahidIqbal01… https://t.co/Wtl70IgrL3\n",
      "Vivo Y83 Pro price reduced by Rs 1,000 in India https://t.co/hQcYgF7czb\n",
      "Panasonic launched FZ-T1 and FZ-L1 Toughbooks in India, priced at Rs 60,000 https://t.co/sUSg1H6nPa\n",
      "PTron spunk premium earbuds launched at Rs 2,999 in India, know features! https://t.co/RSltjp9Haf\n",
      "Inventions made by India in ancient times https://t.co/l4Pf8wU0qF -- shared by UC Mini\n",
      "India's Tour Of New Zealand Declared, See Dangerous 16 Players Probable Team https://t.co/WjoWh23tgo\n",
      "3 Reasons Why India Can't Win This 2nd Test Match Against Australia, See Statistics https://t.co/ljGRDPYWZY\n",
      "India's 13 Players Team Declared For The 2nd Test Against Australia https://t.co/9vCKQbLHGG\n",
      "Aus vs Ind: India's 18 Players Probable Team For The ODI Series https://t.co/FTqcQPGLnp\n",
      "List of India's 18 Players Probable Team For The World Cup 2019 https://t.co/cZ2igmYNZu\n",
      "Every Frustrated Engineer After Watching The Trailer Of Cheat India https://t.co/lbsXTyg5r2\n",
      "#biubiumemes… https://t.co/wCNhOKh0IN\n",
      "Parliament attack: When terror struck India’s citadel of democracy\n",
      "https://t.co/IpEY4G1F8F\n",
      "#ParliamentAttack… https://t.co/PtuVsSCqVn\n",
      "SAME India XI for the Perth Test ALSO WHO BRUTALUSED KANGROOS IN FIRST TEST AT ADELAIDE. VICIOUS &amp; RELENTLESS MIND… https://t.co/K4QvjzDWZd\n",
      "Meghalaya HC judge says India should’ve been a Hindu country\n",
      "https://t.co/Q4vaw5cFJz\n",
      "#MeghalayaHighCourt #Hindu… https://t.co/Cfx50X2qvO\n",
      "MJ Akbar, Tarun Tejpal suspended from Editors Guild Of India\n",
      "https://t.co/2RIkL24W8L\n",
      "#MJAkbar #TarunTejpal #MeToo… https://t.co/5mRNxMtS9Y\n",
      "The US said that if Modi does not become PM again, this will be India's condition https://t.co/XBWzNr8q0W\n",
      "@adrianfcm @Koenraad_Elst Mr Elst, India has 23 official, total 122 major languages\n",
      "\n",
      "Many kids in non Hindi states… https://t.co/vH7WgTHL3H\n",
      "India vs Australia: India Seal Historic Win to Take 1-0 Series Lead\n",
      "https://t.co/LBMl7mi5CS\n",
      "#INDvAUS #Pujara… https://t.co/bBK6eINopa\n"
     ]
    }
   ],
   "source": [
    "search = \"india\"\n",
    "tweets = tweepy.Cursor(api.search, q=search, lang=\"English\").items(numofSearch)\n",
    "#tweet = 0\n",
    "for ind in tweets:\n",
    "        print(ind.text)\n",
    "        review = ind.text\n",
    "        review = review.lower()\n",
    "        review = review.split()\n",
    "        ps = PorterStemmer()\n",
    "        review = [ps.stem(word) for word in review if not word in set(stopwords.words('english'))]\n",
    "        review = ' '.join(review)\n",
    "        analysis = TextBlob(ind.text)\n",
    "        if (analysis.sentiment.polarity ==0):\n",
    "            neutral +=1\n",
    "            total+=1\n",
    "        elif (analysis.sentiment.polarity<0.00):\n",
    "            negative +=1\n",
    "            p.append(-1)\n",
    "            total+=1\n",
    "            corpus.append(review)\n",
    "        elif (analysis.sentiment.polarity>0.00):\n",
    "            positive +=1 \n",
    "            total+=1\n",
    "            p.append(1)\n",
    "            corpus.append(review) "
   ]
  },
  {
   "cell_type": "code",
   "execution_count": 113,
   "metadata": {},
   "outputs": [
    {
     "name": "stdout",
     "output_type": "stream",
     "text": [
      "https://t.co/20AuY7fHv9\n",
      "RT @len_cadbury2000: @thursdayhabit @LifestyleLaguna @aldenrichards02 @thursdayhabit Wow! Para kang si Ms. USA na minaliit sina Ms. Cambodi…\n",
      "RT @len_cadbury2000: @thursdayhabit @LifestyleLaguna @aldenrichards02 @thursdayhabit Wow! Para kang si Ms. USA na minaliit sina Ms. Cambodi…\n",
      "RT @iForex_com: 115 years ago today, the #WrightBrothers conducted the 1st controlled, sustained flight of a powered, heavier-than-air airc…\n",
      "RT @iForex_com: 115 years ago today, the #WrightBrothers conducted the 1st controlled, sustained flight of a powered, heavier-than-air airc…\n",
      "RT @iForex_com: 115 years ago today, the #WrightBrothers conducted the 1st controlled, sustained flight of a powered, heavier-than-air airc…\n",
      "RT @iForex_com: 115 years ago today, the #WrightBrothers conducted the 1st controlled, sustained flight of a powered, heavier-than-air airc…\n",
      "@thursdayhabit @LifestyleLaguna @aldenrichards02 @thursdayhabit Wow! Para kang si Ms. USA na minaliit sina Ms. Camb… https://t.co/ultgSWW71V\n",
      "115 years ago today, the #WrightBrothers conducted the 1st controlled, sustained flight of a powered, heavier-than-… https://t.co/GXORPMq3tX\n",
      "USA WALANG NATAWA SAYO KASI DI LANG ENGLISH ANG LENGGWAHE SA MUNDO. MAGBIKE KA PAUWI. CHE!\n",
      "東京は寝ている？iFOREX取引画面で、昼でも夜でもグローバル市場にアクセスhttps://t.co/hf1NBQJP2N https://t.co/P0aSyerMoJ\n"
     ]
    }
   ],
   "source": [
    "search1 = \"usa\" \n",
    "tweets = tweepy.Cursor(api.search, q=search1, lang=\"English\").items(numofSearch)\n",
    "#tweet = 0\n",
    "for tr in tweets:\n",
    "        print(tr.text)\n",
    "        review = tr.text\n",
    "        review = review.lower()\n",
    "        review = review.split()\n",
    "        ps = PorterStemmer()\n",
    "        review = [ps.stem(word) for word in review if not word in set(stopwords.words('english'))]\n",
    "        review = ' '.join(review)\n",
    "        analysis = TextBlob(tr.text)\n",
    "        if (analysis.sentiment.polarity ==0):\n",
    "            neutral +=1\n",
    "            total+=1\n",
    "        elif (analysis.sentiment.polarity<0.00):\n",
    "            negative +=1\n",
    "            p.append(-1)\n",
    "            total+=1\n",
    "            corpus.append(review)\n",
    "        elif (analysis.sentiment.polarity>0.00):\n",
    "            positive +=1 \n",
    "            total+=1\n",
    "            p.append(1)\n",
    "            corpus.append(review) "
   ]
  },
  {
   "cell_type": "code",
   "execution_count": 114,
   "metadata": {},
   "outputs": [
    {
     "name": "stdout",
     "output_type": "stream",
     "text": [
      "প্রধানমন্ত্রীর কাছে বাঁচার আর্তি শাবানার https://t.co/NCDpnXxsfm\n",
      "ফজরের পর যে তাসবিহ পড়তে বলেছেন প্রিয়নবি https://t.co/hfE0wlth5x\n",
      "বগুড়া-৭ : মহাজোট প্রার্থী তুমি কার? https://t.co/8Tcml606H7\n",
      "বিজয় দিবসে বাংলাদেশকে অপমান করলেন শেবাগ! https://t.co/7WjL56jDhI\n",
      "আমাদের রানী জয়্ দিক থেকেও শক্ত অবস্থানে আছেন। শহর বাজারে একটাই গান উন্নয়নের রানী নৌকার গান এবার বিপুল ভোটে জয়লাভ… https://t.co/UQWKZyzKZ0\n",
      "প্রতিটি আসনের জয়-পরাজয়ে জাপার ভূমিকা থাকবে https://t.co/q9awDeNvG7\n",
      "শাসক দলীয় প্রার্থী আচরণবিধি মানছেন না- প্রেস ব্রিফিং এ হেলাল https://t.co/kkPJZUDhf3\n",
      "সহকারী রিটার্নিং কর্মকর্তা আ. লীগ প্রার্থীর পিএস : প্রত্যাহার দাবি জাপা প্রার্থীর https://t.co/CtlZtqwze8\n",
      "জাপা প্রার্থীর গাড়িবহরে হামলা ও ভাঙচুরের অভিযোগ https://t.co/jEMacEOLei\n",
      "ভোট যেই পাক, ঘোষণা নৌকা মার্কায় https://t.co/va26F2ww4M\n",
      "‘বাবা জীবিত থাকলে এখন আওয়ামী লীগ করতেন না’ https://t.co/eiZnDLdoW3\n",
      "‘আমাকে হুমকি দেয়া হচ্ছে’ https://t.co/QgwrltbCGR\n",
      "সাতক্ষীরা-৪ : প্রচারে নামলেই হামলা https://t.co/pK6AnATP5z\n",
      "‘ঢাকা-১৭ আসনে এরশাদ সবচেয়ে যোগ্য প্রার্থী’ https://t.co/bmV00jJXWi\n",
      "বিএনপি নেতা মাহাবুব উদ্দিন খোকন গুলিবিদ্ধ https://t.co/YJRFJ9r8IB\n",
      "হাসিনা আহমদের গাড়িতে গুলি শতাধিক আহত https://t.co/JzHxBqeopI\n",
      "গোলাম মাওলা রনির স্ত্রীর উপর হামলা https://t.co/gcvHhn1xG6\n",
      "কড়াইল বস্তিতে এরশাদের প্রচারণায় নেতাকর্মীরা https://t.co/gjDaXaEHF3\n",
      "আল্লাহর রহমতে এবারো হ্যাটট্রিক জয় দিয়ে শুরু করবে মিশন বাংলাদেশ রত্না সফলতম রাষ্ট্রনায়ক  প্রধানমন্ত্রী শেখ হাসিনা… https://t.co/wi3eObvk5q\n",
      "আ’লীগ সহসভাপতির হাতে একই দলের নেতা নিহত, শতাধিক বাড়ি-ঘরে অগ্নিসংযোগ https://t.co/xtpyY3IsZl\n",
      "দক্ষিণাঞ্চলে জাতীয় পার্টিকে নিয়ে মহ সংকটে মহাজোট মাঠ পর্যায়ে আওয়ামী লীগ নেতা-কর্মীদের মাঝে ব https://t.co/6Auijjdntw\n",
      "ড. কামালের গাড়িবহরে হামলা https://t.co/QLCsabsN5X\n",
      "রাজনীতিতে শেখ হাসিনার ১০ ভুল https://t.co/RnKuVcK1Pu\n",
      "তারেকেই বিএনপির সর্বনাশ https://t.co/0zqzxqvcuA\n",
      "শেখ হাসিনাকে পাল্টা চ্যালেঞ্জ বি. চৌধুরীর https://t.co/lta96zIMIg\n",
      "জিয়া-খালেদা-এরশাদ মানুষের সম্পদ লুটে খেয়েছে: শেখ হাসিনা https://t.co/UcryNzty8z\n",
      "নৌকায় ৫, হাতুড়িতে ৩ https://t.co/PeWgFe9ELB\n",
      "‘জামায়াতের প্রেসক্রিপশনে পুলিশ প্রশাসনে রদবদল হচ্ছে’ https://t.co/sq9FDVdVsR\n",
      "টাকা না পেয়ে মোর্শেদ খানের নাম কাটল তারেক https://t.co/HV7NIfpxde\n",
      "নৌকাতে ভরসা নেই মন্ত্রী মঞ্জুর, বাইসাইকেল নিয়েই লড়বেন https://t.co/armVg889wC\n",
      "‘শেষ রক্তবিন্দু থাকা পর্যন্ত ভোটের মাঠ ছাড়বো না’ https://t.co/ufSF3r7Jj5\n",
      "মিডিয়া আ’লীগের বিরুদ্ধে অবস্থান নিয়েছে https://t.co/gVGkz3PonA\n",
      "https://t.co/mMGhtjOxSM... https://t.co/CYp3gTpkMg\n",
      "সাংবাদিক সাগর-রুনি হত্যা মামলা প্রসঙ্গে প্রধানমন্ত্রী সব জানেন -এস কে সিনহা https://t.co/U5AoF6Qf88\n",
      "সাংবিধানিক ক্যু-এর কথা স্বীকার করলেন সিনহা https://t.co/OKi90cRD8m\n",
      "‘এই মুহূর্তে আ. লীগকে হটানো যাবে না’ https://t.co/27qF62KSJL\n",
      "ভোলার চরফ্যাশনে বিএনপি প্রার্থী নাজিম উদ্দিন আলমের বাড়িতে আওয়ামী লীগ কর্মীদের হামলা, ভাংচুড় https://t.co/7NMos0aEM4\n",
      "রাজনীতির মাঠে হাসিনার পাশে তরুণদের চাইলেন সাকিব https://t.co/7WEjAajft8\n",
      "প্রতিটি আসনের জয়-পরাজয়ে জাপার ভূমিকা থাকবে https://t.co/ZBAHnlUFuM\n",
      "মহাজোটে জাপার আসনে নেতাকর্মীরা সন্তুষ্ট নয় : রাঙ্গা https://t.co/r6cLzQFLuS\n",
      "অসাধু দূরাচার বটে! https://t.co/8p6CwSCqaD\n"
     ]
    }
   ],
   "source": [
    "search2 = \"BD\" \n",
    "tweets = tweepy.Cursor(api.search, q=search2, lang=\"English\").items(numofSearch)\n",
    "#tweet = 0\n",
    "for me in tweets:\n",
    "        print(me.text)\n",
    "        review = me.text\n",
    "        review = review.lower()\n",
    "        review = review.split()\n",
    "        ps = PorterStemmer()\n",
    "        review = [ps.stem(word) for word in review if not word in set(stopwords.words('english'))]\n",
    "        review = ' '.join(review)\n",
    "        analysis = TextBlob(me.text)\n",
    "        if (analysis.sentiment.polarity ==0):\n",
    "            neutral +=1\n",
    "            total+=1\n",
    "        elif (analysis.sentiment.polarity<0.00):\n",
    "            negative +=1\n",
    "            p.append(-1)\n",
    "            total+=1\n",
    "            corpus.append(review)\n",
    "        elif (analysis.sentiment.polarity>0.00):\n",
    "            positive +=1 \n",
    "            total+=1\n",
    "            p.append(1)\n",
    "            corpus.append(review) "
   ]
  },
  {
   "cell_type": "code",
   "execution_count": 115,
   "metadata": {},
   "outputs": [
    {
     "name": "stdout",
     "output_type": "stream",
     "text": [
      "Media Doglapan Before Election And After Election #biubiumemes https://t.co/SN0hUq8881 https://t.co/nnF7cFvBX4\n",
      "Rajnikant Is The Reason Of Congress Winning In Election 2018\n",
      " https://t.co/TRkfvfzL5u\n",
      "\n",
      "#RVCJ,… https://t.co/YT1wxa2acl\n",
      "Madhya Pradesh Election Results 2018: Counting till 11:45; BJP back in lead https://t.co/E2He2xQlRA\n",
      "MP Election: Cong wins last seat; in final tally, INC - 114, BJP - 109\n",
      "https://t.co/Q9iDIo2jvz\n",
      "#Election2018… https://t.co/IfzVze6eBb\n",
      "MP election results: Congress leads with a small margin over BJP\n",
      "https://t.co/RXAGdqtHVN\n",
      "#Results2018… https://t.co/qkW3myzQRh\n",
      "Mizoram Election: MNF set to unseat Cong with leads in 24 of 40 seats\n",
      "https://t.co/NE59iOXlOr\n",
      "#Results2018… https://t.co/pZ5hAUod6E\n"
     ]
    }
   ],
   "source": [
    "search3 = \"election\" \n",
    "tweets = tweepy.Cursor(api.search, q=search3, lang=\"English\").items(numofSearch)\n",
    "#tweet = 0\n",
    "for lm in tweets:\n",
    "        print(lm.text)\n",
    "        review = lm.text\n",
    "        review = review.lower()\n",
    "        review = review.split()\n",
    "        ps = PorterStemmer()\n",
    "        review = [ps.stem(word) for word in review if not word in set(stopwords.words('english'))]\n",
    "        review = ' '.join(review)\n",
    "        analysis = TextBlob(lm.text)\n",
    "        if (analysis.sentiment.polarity ==0):\n",
    "            neutral +=1\n",
    "            total+=1\n",
    "        elif (analysis.sentiment.polarity<0.00):\n",
    "            negative +=1\n",
    "            p.append(-1)\n",
    "            total+=1\n",
    "            corpus.append(review)\n",
    "        elif (analysis.sentiment.polarity>0.00):\n",
    "            positive +=1 \n",
    "            total+=1\n",
    "            p.append(1)\n",
    "            corpus.append(review) "
   ]
  },
  {
   "cell_type": "code",
   "execution_count": 116,
   "metadata": {},
   "outputs": [
    {
     "name": "stdout",
     "output_type": "stream",
     "text": [
      "@theloverarian di ko alam o compliment anan o kasudi it sounds sarcastic to me hahahahaha 🤔pero talaga practice2 la… https://t.co/3wAEfJoAVH\n",
      "RT @FUNimation: \"Let me fix you... I'm really\n",
      "\n",
      "...good at that.\"\n",
      "\n",
      "#AngelsofDeath https://t.co/4j0PXICC8u https://t.co/IgkfN8w3zU\n",
      "gaano ka basic?? like -23+45 ganon lang ate? — pov nung panahon ko pa 'to 😂 parang college entrance exam lang? engl… https://t.co/r2f8fwTrGZ\n"
     ]
    }
   ],
   "source": [
    "search4 = \"me_to\" \n",
    "tweets = tweepy.Cursor(api.search, q=search4, lang=\"English\").items(numofSearch)\n",
    "#tweet = 0\n",
    "for ro in tweets:\n",
    "        print(ro.text)\n",
    "        review = ro.text\n",
    "        review = review.lower()\n",
    "        review = review.split()\n",
    "        ps = PorterStemmer()\n",
    "        review = [ps.stem(word) for word in review if not word in set(stopwords.words('english'))]\n",
    "        review = ' '.join(review)\n",
    "        analysis = TextBlob(ro.text)\n",
    "        if (analysis.sentiment.polarity ==0):\n",
    "            neutral +=1\n",
    "            total+=1\n",
    "        elif (analysis.sentiment.polarity<0.00):\n",
    "            negative +=1\n",
    "            p.append(-1)\n",
    "            total+=1\n",
    "            corpus.append(review)\n",
    "        elif (analysis.sentiment.polarity>0.00):\n",
    "            positive +=1 \n",
    "            total+=1\n",
    "            p.append(1)\n",
    "            corpus.append(review) "
   ]
  },
  {
   "cell_type": "code",
   "execution_count": 117,
   "metadata": {
    "scrolled": true
   },
   "outputs": [
    {
     "name": "stdout",
     "output_type": "stream",
     "text": [
      "['#whangarei northland #nouvellezelande: naughti north comedi club - christma special 20 dec 2018… https://t.co/kxtpgwztfb', '#napier hawk bay #newzealand: napier citi christma late night 20 dec 2018 https://t.co/eaxtaeqwlm https://t.co/hpjnsk9bqr', 'rt @seomraranga: christma journey - free season onlin pictur book https://t.co/gtrypm9o6 #edchati https://t.co/vnlcpa9cii', \"rt @seomraranga: schnitzel' first christma - free season onlin pictur book https://t.co/mzsanufqx #edchati https://t.co/sr3jmumnlb\", \"rt @seomraranga: waldo' christma surpris - onlin free season pictur book https://t.co/xtvqdedret #edchati https://t.co/f0k95luxz7\", 'christma journey - free season onlin pictur book https://t.co/gtrypm9o6 #edchati https://t.co/vnlcpa9cii', \"schnitzel' first christma - free season onlin pictur book https://t.co/mzsanufqx #edchati https://t.co/sr3jmumnlb\", \"waldo' christma surpris - onlin free season pictur book https://t.co/xtvqdedret #edchati https://t.co/f0k95luxz7\", 'dunedin #otago #newzealand: larnach castl naughti christma horror ball 14 dec 2018 - 15 dec 2018… https://t.co/hizcz3ecb', 'anong regalo gusto mong makuha christma na di aabot ng 300? — parang ayoko na kasi ng libro eh hahahaha pero… https://t.co/ijutzwrbpb', 'new plymouth #taranaki #newzealand: operatunity: cinderella - christma pantomim 14 dec 2018… https://t.co/nxxtqfishg', '#tokoroa waikato #newzealand: taupo christma classic 13 dec 2018 - 16 dec 2018 https://t.co/zt6llfdorg https://t.co/vixz5mdxcb', 'danger sea bridg india, click see https://t.co/o16d8qyiiq', 'danger sea bridg india, click see https://t.co/o16d8qyiiq', 'amaz garden india visit https://t.co/cmanoe2pnt', '8 educ actress india https://t.co/xjqw1q23li -- share uc mini', 'australia level seri 1-1 146-run win india https://t.co/n7zsqlvecc #indvau #testcricket #viratkohli… https://t.co/dxfembwdc9', \"india' tour new zealand declared, see danger 16 player probabl team https://t.co/wjowh23tgo\", \"3 reason india can't win 2nd test match australia, see statist https://t.co/ljgrdpywzi\", 'everi frustrat engin watch trailer cheat india https://t.co/lbsxtyg5r2 #biubiumemes… https://t.co/wcnhokh0in', 'india xi perth test also brutalus kangroo first test adelaide. viciou &amp; relentless mind… https://t.co/k4qvjzdwzd', '@adrianfcm @koenraad_elst mr elst, india 23 official, total 122 major languag mani kid non hindi states… https://t.co/vh7wgthl3h', 'india vs australia: india seal histor win take 1-0 seri lead https://t.co/lbml7mi5c #indvau #pujara… https://t.co/bbk6einopa', 'rt @len_cadbury2000: @thursdayhabit @lifestylelaguna @aldenrichards02 @thursdayhabit wow! para kang si ms. usa na minaliit sina ms. cambodi…', 'rt @len_cadbury2000: @thursdayhabit @lifestylelaguna @aldenrichards02 @thursdayhabit wow! para kang si ms. usa na minaliit sina ms. cambodi…', '@thursdayhabit @lifestylelaguna @aldenrichards02 @thursdayhabit wow! para kang si ms. usa na minaliit sina ms. camb… https://t.co/ultgsww71v', 'rajnik reason congress win elect 2018 https://t.co/trkfvfzl5u #rvcj,… https://t.co/yt1wxa2acl', 'mp election: cong win last seat; final tally, inc - 114, bjp - 109 https://t.co/q9idio2jvz #election2018… https://t.co/ifzvze6ebb', 'mp elect results: congress lead small margin bjp https://t.co/rxagdqthvn #results2018… https://t.co/qkw3myzqrh', '@theloverarian di ko alam compliment anan kasudi sound sarcast hahahahaha 🤔pero talaga practice2 la… https://t.co/3waefjoavh', 'rt @funimation: \"let fix you... i\\'m realli ...good that.\" #angelsofdeath https://t.co/4j0pxicc8u https://t.co/igkfn8w3zu']\n",
      "[1, -1, 1, 1, 1, 1, 1, 1, -1, 1, 1, 1, -1, -1, 1, 1, 1, -1, 1, -1, -1, 1, 1, 1, 1, 1, 1, 1, -1, 1, 1]\n",
      "23\n",
      "8\n",
      "88\n",
      "119\n"
     ]
    }
   ],
   "source": [
    "print (corpus)\n",
    "print (p)\n",
    "print (positive)\n",
    "print (negative)\n",
    "print (neutral)\n",
    "print (total)\n"
   ]
  },
  {
   "cell_type": "code",
   "execution_count": 118,
   "metadata": {},
   "outputs": [],
   "source": [
    "positive = percentage(positive,total)\n",
    "negative = percentage(negative,total)\n",
    "neutral = percentage(neutral,total)\n",
    "positive=format(positive,'.2f')\n",
    "negative=format(negative,'.2f')\n",
    "neutral=format(neutral,'.2f')"
   ]
  },
  {
   "cell_type": "code",
   "execution_count": 119,
   "metadata": {},
   "outputs": [
    {
     "name": "stdout",
     "output_type": "stream",
     "text": [
      "how pepole are reacting on christmas by analyzing 100 tweets.\n",
      "neurtal\n"
     ]
    }
   ],
   "source": [
    "print (\"how pepole are reacting on \"+searchTerm+\" by analyzing \"+str(numofSearch)+\" tweets.\")\n",
    "\n",
    "if (polarity ==0):\n",
    "    print (\"neurtal\")\n",
    "elif (polarity<0):\n",
    "    print(\"Negative\")\n",
    "elif (polarity >0):\n",
    "    print(\"positive\")"
   ]
  },
  {
   "cell_type": "code",
   "execution_count": 120,
   "metadata": {},
   "outputs": [
    {
     "data": {
      "image/png": "[encoded data removed]",
      "text/plain": [
       "<Figure size 432x288 with 1 Axes>"
      ]
     },
     "metadata": {},
     "output_type": "display_data"
    }
   ],
   "source": [
    "labels = ['positive['+str(positive)+'%]', 'negative['+str(negative)+'%]', 'neutral['+str(neutral)+'%]']\n",
    "size = [positive,negative,neutral]\n",
    "color = ['green','red','blue']\n",
    "patches , text = plt.pie (size , colors=color,startangle=90)\n",
    "plt.legend(patches,labels,loc=\"best\")\n",
    "plt.title('Sentiment about '+searchTerm+' by '+str(numofSearch)+' tweets.')\n",
    "plt.axis('equal')\n",
    "plt.tight_layout()\n",
    "plt.show()"
   ]
  },
  {
   "cell_type": "code",
   "execution_count": 121,
   "metadata": {},
   "outputs": [],
   "source": [
    "from sklearn.feature_extraction.text import CountVectorizer\n",
    "cv = CountVectorizer(max_features = 100)\n",
    "X = cv.fit_transform(corpus).toarray()\n",
    "y = p"
   ]
  },
  {
   "cell_type": "code",
   "execution_count": 122,
   "metadata": {},
   "outputs": [],
   "source": [
    "from sklearn.cross_validation import train_test_split"
   ]
  },
  {
   "cell_type": "code",
   "execution_count": 123,
   "metadata": {},
   "outputs": [],
   "source": [
    "X_train, X_test, y_train, y_test = train_test_split( X , y , test_size=.25, random_state = 10)"
   ]
  },
  {
   "cell_type": "code",
   "execution_count": 124,
   "metadata": {},
   "outputs": [],
   "source": [
    "from sklearn import naive_bayes"
   ]
  },
  {
   "cell_type": "code",
   "execution_count": 125,
   "metadata": {},
   "outputs": [
    {
     "data": {
      "text/plain": [
       "MultinomialNB(alpha=1.0, class_prior=None, fit_prior=True)"
      ]
     },
     "execution_count": 125,
     "metadata": {},
     "output_type": "execute_result"
    }
   ],
   "source": [
    "clf =naive_bayes.MultinomialNB()\n",
    "clf.fit(X_train,y_train)"
   ]
  },
  {
   "cell_type": "code",
   "execution_count": 126,
   "metadata": {},
   "outputs": [],
   "source": [
    "from sklearn.metrics import confusion_matrix, roc_auc_score"
   ]
  },
  {
   "cell_type": "code",
   "execution_count": 127,
   "metadata": {},
   "outputs": [
    {
     "data": {
      "text/plain": [
       "0.8333333333333333"
      ]
     },
     "execution_count": 127,
     "metadata": {},
     "output_type": "execute_result"
    }
   ],
   "source": [
    "roc_auc_score(y_test,clf.predict_proba(X_test)[:,1])"
   ]
  },
  {
   "cell_type": "code",
   "execution_count": 128,
   "metadata": {},
   "outputs": [],
   "source": [
    "from sklearn.tree import DecisionTreeClassifier\n",
    "from sklearn.metrics import accuracy_score"
   ]
  },
  {
   "cell_type": "code",
   "execution_count": 129,
   "metadata": {},
   "outputs": [],
   "source": [
    "logreg = DecisionTreeClassifier()"
   ]
  },
  {
   "cell_type": "code",
   "execution_count": 130,
   "metadata": {},
   "outputs": [
    {
     "data": {
      "text/plain": [
       "DecisionTreeClassifier(class_weight=None, criterion='gini', max_depth=None,\n",
       "            max_features=None, max_leaf_nodes=None,\n",
       "            min_impurity_decrease=0.0, min_impurity_split=None,\n",
       "            min_samples_leaf=1, min_samples_split=2,\n",
       "            min_weight_fraction_leaf=0.0, presort=False, random_state=None,\n",
       "            splitter='best')"
      ]
     },
     "execution_count": 130,
     "metadata": {},
     "output_type": "execute_result"
    }
   ],
   "source": [
    "logreg.fit(X_train,y_train)"
   ]
  },
  {
   "cell_type": "code",
   "execution_count": 131,
   "metadata": {},
   "outputs": [],
   "source": [
    "y_pred=logreg.predict(X_test)"
   ]
  },
  {
   "cell_type": "code",
   "execution_count": 132,
   "metadata": {},
   "outputs": [
    {
     "name": "stdout",
     "output_type": "stream",
     "text": [
      "0.75\n"
     ]
    }
   ],
   "source": [
    "accuracy=accuracy_score(y_test,y_pred)\n",
    "print(accuracy)"
   ]
  },
  {
   "cell_type": "code",
   "execution_count": 133,
   "metadata": {},
   "outputs": [],
   "source": [
    "from sklearn.ensemble import RandomForestClassifier"
   ]
  },
  {
   "cell_type": "code",
   "execution_count": 134,
   "metadata": {},
   "outputs": [],
   "source": [
    "forest = RandomForestClassifier(n_estimators=200, random_state=3)"
   ]
  },
  {
   "cell_type": "code",
   "execution_count": 135,
   "metadata": {},
   "outputs": [
    {
     "data": {
      "text/plain": [
       "RandomForestClassifier(bootstrap=True, class_weight=None, criterion='gini',\n",
       "            max_depth=None, max_features='auto', max_leaf_nodes=None,\n",
       "            min_impurity_decrease=0.0, min_impurity_split=None,\n",
       "            min_samples_leaf=1, min_samples_split=2,\n",
       "            min_weight_fraction_leaf=0.0, n_estimators=200, n_jobs=1,\n",
       "            oob_score=False, random_state=3, verbose=0, warm_start=False)"
      ]
     },
     "execution_count": 135,
     "metadata": {},
     "output_type": "execute_result"
    }
   ],
   "source": [
    "forest.fit(X_train, y_train)"
   ]
  },
  {
   "cell_type": "code",
   "execution_count": 136,
   "metadata": {},
   "outputs": [],
   "source": [
    "from sklearn import metrics"
   ]
  },
  {
   "cell_type": "code",
   "execution_count": 137,
   "metadata": {},
   "outputs": [
    {
     "name": "stdout",
     "output_type": "stream",
     "text": [
      "0.875\n"
     ]
    }
   ],
   "source": [
    "y_pred= forest.predict(X_test)\n",
    "acc = metrics.accuracy_score(y_test, y_pred)\n",
    "print(acc)"
   ]
  },
  {
   "cell_type": "code",
   "execution_count": 138,
   "metadata": {},
   "outputs": [],
   "source": [
    "from sklearn.ensemble import BaggingClassifier"
   ]
  },
  {
   "cell_type": "code",
   "execution_count": 139,
   "metadata": {},
   "outputs": [
    {
     "data": {
      "text/plain": [
       "BaggingClassifier(base_estimator=DecisionTreeClassifier(class_weight=None, criterion='gini', max_depth=None,\n",
       "            max_features=None, max_leaf_nodes=None,\n",
       "            min_impurity_decrease=0.0, min_impurity_split=None,\n",
       "            min_samples_leaf=1, min_samples_split=2,\n",
       "            min_weight_fraction_leaf=0.0, presort=False, random_state=None,\n",
       "            splitter='best'),\n",
       "         bootstrap=True, bootstrap_features=False, max_features=1.0,\n",
       "         max_samples=7, n_estimators=200, n_jobs=1, oob_score=False,\n",
       "         random_state=None, verbose=0, warm_start=False)"
      ]
     },
     "execution_count": 139,
     "metadata": {},
     "output_type": "execute_result"
    }
   ],
   "source": [
    "bg = BaggingClassifier(DecisionTreeClassifier(),max_samples=7.5, max_features=1.0, n_estimators=200)\n",
    "bg.fit(X_train,y_train)"
   ]
  },
  {
   "cell_type": "code",
   "execution_count": 140,
   "metadata": {},
   "outputs": [],
   "source": [
    "y_pred= bg.predict(X_test)"
   ]
  },
  {
   "cell_type": "code",
   "execution_count": 141,
   "metadata": {},
   "outputs": [
    {
     "data": {
      "text/plain": [
       "0.75"
      ]
     },
     "execution_count": 141,
     "metadata": {},
     "output_type": "execute_result"
    }
   ],
   "source": [
    "bg.score(X_test,y_test)"
   ]
  },
  {
   "cell_type": "code",
   "execution_count": 142,
   "metadata": {},
   "outputs": [],
   "source": [
    "from sklearn.ensemble import AdaBoostClassifier"
   ]
  },
  {
   "cell_type": "code",
   "execution_count": 143,
   "metadata": {},
   "outputs": [
    {
     "data": {
      "text/plain": [
       "AdaBoostClassifier(algorithm='SAMME.R',\n",
       "          base_estimator=DecisionTreeClassifier(class_weight=None, criterion='gini', max_depth=None,\n",
       "            max_features=None, max_leaf_nodes=None,\n",
       "            min_impurity_decrease=0.0, min_impurity_split=None,\n",
       "            min_samples_leaf=1, min_samples_split=2,\n",
       "            min_weight_fraction_leaf=0.0, presort=False, random_state=None,\n",
       "            splitter='best'),\n",
       "          learning_rate=1, n_estimators=20, random_state=None)"
      ]
     },
     "execution_count": 143,
     "metadata": {},
     "output_type": "execute_result"
    }
   ],
   "source": [
    "adb = AdaBoostClassifier(DecisionTreeClassifier(),n_estimators=20,learning_rate = 1)\n",
    "adb.fit(X_train,y_train)"
   ]
  },
  {
   "cell_type": "code",
   "execution_count": 144,
   "metadata": {},
   "outputs": [
    {
     "data": {
      "text/plain": [
       "0.875"
      ]
     },
     "execution_count": 144,
     "metadata": {},
     "output_type": "execute_result"
    }
   ],
   "source": [
    "adb.score(X_test,y_test)"
   ]
  },
  {
   "cell_type": "code",
   "execution_count": null,
   "metadata": {},
   "outputs": [],
   "source": []
  }
 ],
 "metadata": {
  "kernelspec": {
   "display_name": "Python 3",
   "language": "python",
   "name": "python3"
  },
  "language_info": {
   "codemirror_mode": {
    "name": "ipython",
    "version": 3
   },
   "file_extension": ".py",
   "mimetype": "text/x-python",
   "name": "python",
   "nbconvert_exporter": "python",
   "pygments_lexer": "ipython3",
   "version": "3.7.3"
  }
 },
 "nbformat": 4,
 "nbformat_minor": 2
}
