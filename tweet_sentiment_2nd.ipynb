{
 "cells": [
  {
   "cell_type": "code",
   "execution_count": 4,
   "metadata": {},
   "outputs": [
    {
     "name": "stdout",
     "output_type": "stream",
     "text": [
      "[nltk_data] Downloading package stopwords to\n",
      "[nltk_data]     C:\\Users\\Lenovo\\AppData\\Roaming\\nltk_data...\n",
      "[nltk_data]   Package stopwords is already up-to-date!\n"
     ]
    }
   ],
   "source": [
    "import numpy as np\n",
    "import pandas as pd\n",
    "import tweepy\n",
    "import math\n",
    "import json\n",
    "from textblob import TextBlob\n",
    "import matplotlib.pyplot as plt\n",
    "import re\n",
    "import nltk\n",
    "nltk.download('stopwords')\n",
    "from nltk.corpus import stopwords\n",
    "from nltk.stem.porter import PorterStemmer\n",
    "%matplotlib inline\n",
    "import seaborn as sns"
   ]
  },
  {
   "cell_type": "code",
   "execution_count": 5,
   "metadata": {},
   "outputs": [],
   "source": [
    "def percentage(part, whole):\n",
    "  return 100* (float(part)/float(whole)) \n",
    "consumer_key ='MqL6H8HqwJF9uzgruxzwvFxqZ'\n",
    "consumer_secret='5QCJQ0sIQdDXvXdhRdo2xrEnfo3y5AUSW5hKD2Ze9FREjM7Flq'\n",
    "access_token='303034057-0TKtDa4Cc5ktljoVPqzqAIjN12ndMAOUjlJK0ANP'\n",
    "access_token_secret='oAhFhKtluflyJYUvFzIBDLiNh6zwES9V3hyS5gXIGUWfG'\n",
    "auth = tweepy.OAuthHandler(consumer_key,consumer_secret)\n",
    "auth.set_access_token(access_token,access_token_secret)\n",
    "api = tweepy.API(auth)\n"
   ]
  },
  {
   "cell_type": "code",
   "execution_count": 6,
   "metadata": {},
   "outputs": [],
   "source": [
    "searchTerm = \"christmas\"\n",
    "numofSearch = int(100)\n"
   ]
  },
  {
   "cell_type": "code",
   "execution_count": 7,
   "metadata": {},
   "outputs": [
    {
     "name": "stdout",
     "output_type": "stream",
     "text": [
      "<tweepy.cursor.ItemIterator object at 0x00000118CB59B6D8>\n"
     ]
    }
   ],
   "source": [
    "tweets = tweepy.Cursor(api.search, q=searchTerm, lang=\"English\").items(numofSearch)\n",
    "#tweets\n",
    "#tweetsdf <- twListToDF(tweets)\n",
    "#write.csv(tweetsdf, file='~/Desktop/christmas.csv', row.names=F)\n",
    "arr = [] \n",
    "print(tweets)"
   ]
  },
  {
   "cell_type": "code",
   "execution_count": 8,
   "metadata": {},
   "outputs": [
    {
     "name": "stdout",
     "output_type": "stream",
     "text": [
      "#Taihape Mt Ruapehu #NouvelleZelande: Feilding's Living Christmas 21 Dec 2018 https://t.co/KFmQ8ZdlM5 https://t.co/8TyCjjYTxj\n",
      "PalmerstonNorth #MtRuapehu #NewZealand: Movie Night and Christmas 21 Dec 2018 https://t.co/RFlIKgTCMM https://t.co/AG8xwyT9ux\n",
      "#Masterton Wairarapa #NewZealand: Christmas Party With Just N Time 21 Dec 2018 https://t.co/HDHkc1Ez8i https://t.co/TdtQDRGPbV\n",
      "#Whangarei Northland #NouvelleZelande: Naughty North Comedy Club - Christmas Special 20 Dec 2018… https://t.co/KxTPgWzTfB\n",
      "#Napier Hawkes Bay #NewZealand: Napier City Christmas Late Night 20 Dec 2018 https://t.co/EAxTAEqWLm https://t.co/hPjNsK9BqR\n",
      "#Christchurch #NewZealand: The Tannery Christmas Market 20 Dec 2018 https://t.co/Y3Ml7duMva https://t.co/OIpIZtae6H\n",
      "#Whangarei Northland #NouvelleZelande: Ruakaka Christmas At the Races 18 Dec 2018 https://t.co/42yBiEgBAb https://t.co/9UJnbWZdH4\n",
      "#Wellington #NouvelleZelande: Counsel in Concert: All I Want for Christmas... 18 Dec 2018 https://t.co/jsF3eKNbdz https://t.co/OrJFGU1YZJ\n",
      "#Tirau Waikato #NewZealand: Matamata Christmas At the Races 19 Dec 2018 https://t.co/IHmToyWsz5 https://t.co/o0TWW93Hdp\n",
      "RT @seomraranga: A Christmas Journey - free seasonal online picture book https://t.co/gTryPM9o6E #edchatie https://t.co/VNLcpa9cII\n",
      "RT @seomraranga: Schnitzel's First Christmas - free seasonal online picture book https://t.co/MZsaNUfqXe #edchatie https://t.co/Sr3JmUmNlB\n",
      "RT @seomraranga: Waldo's Christmas Surprise - an online free seasonal picture book https://t.co/XTVQdeDReT #edchatie https://t.co/F0K95LuxZ7\n",
      "#Auckland #NouvelleZelande: Henderson Christmas Festival 16 Dec 2018 https://t.co/xPZ03nZ5YG https://t.co/PjxIsY1Rs6\n",
      "#Waipara Canterbury #NouvelleZelande: Rangiora Christmas at the Races 16 Dec 2018 https://t.co/h6azDFLKQV https://t.co/SsSrgvG6fJ\n",
      "#Nelson Marlborough #NouvelleZelande: Christmas for The City 16 Dec 2018 https://t.co/snqXDOujW7 https://t.co/e4MIwR5plE\n",
      "#Tauranga Bay of Plenty #NouvelleZelande: Papamoa Christmas Carnival 16 Dec 2018 https://t.co/h8ECGKXJ2X https://t.co/m88qc0IywB\n",
      "#Coromandel #NewZealand: 30th Coromandel Christmas Art Exhibition 16 Dec 2018 - 12 Jan 2019 https://t.co/7a81Vb98pg https://t.co/O3zpmWK1DO\n",
      "A Christmas Journey - free seasonal online picture book https://t.co/gTryPM9o6E #edchatie https://t.co/VNLcpa9cII\n",
      "Schnitzel's First Christmas - free seasonal online picture book https://t.co/MZsaNUfqXe #edchatie https://t.co/Sr3JmUmNlB\n",
      "Waldo's Christmas Surprise - an online free seasonal picture book https://t.co/XTVQdeDReT #edchatie https://t.co/F0K95LuxZ7\n",
      "Dunedin #Otago #NouvelleZelande: Wingatui Christmas At the Races 14 Dec 2018 https://t.co/k8AB9Jg1gc https://t.co/r2YdV9pSGr\n",
      "Kaiwaka #Northland #NewZealand: Christmas Party In the Vines 14 Dec 2018 https://t.co/RCyagnu7tR https://t.co/fTzUF6peqv\n",
      "Stratford #Taranaki #NewZealand: 2018 Stratford Christmas Carols In the Park 14 Dec 2018 https://t.co/yjXrNv4ak9 https://t.co/Vl6DYn20dP\n",
      "Dunedin #Otago #NewZealand: Larnach Castles Naughty Christmas Horror Ball 14 Dec 2018 - 15 Dec 2018… https://t.co/hizcz3eCBe\n",
      "#Wellington #NewZealand: Christmas Market Carols by Candlelight &amp; Supper 14 Dec 2018 https://t.co/iROTjDhGRu https://t.co/PrpHc5lJ0q\n",
      "Anong regalo gusto mong makuha this christmas na di aabot ng 300? — Parang ayoko na kasi ng libro eh hahahaha pero… https://t.co/IjUTZWrBPb\n",
      "#Blenheim Marlborough #NouvelleZelande: Christmas Festival 13 Dec 2018 https://t.co/6RZiUjtJPo https://t.co/zV9vUfOseR\n",
      "RT @NZYourWay: #Auckland #NewZealand: Christmas Lights at MOTAT 13 Dec 2018 - 24 Dec 2018 https://t.co/kz4H4PLxKU https://t.co/qBtwcuG9Ao\n",
      "#Auckland #NewZealand: Christmas Lights at MOTAT 13 Dec 2018 - 24 Dec 2018 https://t.co/kz4H4PLxKU https://t.co/qBtwcuG9Ao\n",
      "New Plymouth #Taranaki #NewZealand: Operatunity: Cinderella - A Christmas Pantomime 14 Dec 2018… https://t.co/nxxtQFIShG\n",
      "#Auckland #NewZealand: Twelve Days of Christmas Market 14 Dec 2018 - 24 Dec 2018 https://t.co/INizrfIWyc https://t.co/Rx2egkW4ie\n",
      "Tauranga #BayofPlenty #NewZealand: Tauranga Twilight Christmas At the Races 14 Dec 2018 https://t.co/4UNjC5N8dH https://t.co/VG4eQqlN6a\n",
      "#Wellington #NouvelleZelande: Christmas 2018 - Join-The-Party! 12 Dec 2018 - 13 Dec 2018 https://t.co/Z3kOgyJKHk https://t.co/BRemNrCvJP\n",
      "#Tokoroa Waikato #NewZealand: Taupo Christmas Classic 13 Dec 2018 - 16 Dec 2018 https://t.co/zt6LLFDoRg https://t.co/ViXZ5Mdxcb\n",
      "#Paihia Northland #NewZealand: Community Christmas Carols 12 Dec 2018 https://t.co/IMKjVYLzpM https://t.co/yUqUMaw4KT\n"
     ]
    }
   ],
   "source": [
    "positive=0\n",
    "p=[]\n",
    "negative=0\n",
    "total = 0\n",
    "neutral=0\n",
    "polarity=0\n",
    "corpus = []\n",
    "for tweet in tweets:\n",
    "    print(tweet.text)\n",
    "    review = tweet.text\n",
    "    review = review.lower()\n",
    "    review = review.split()\n",
    "    ps = PorterStemmer()\n",
    "    review = [ps.stem(word) for word in review if not word in set(stopwords.words('english'))]\n",
    "    review = ' '.join(review)\n",
    "    #corpus.append(review)\n",
    "\n",
    "    \n",
    "    analysis = TextBlob(tweet.text)\n",
    "    if (analysis.sentiment.polarity ==0):\n",
    "      neutral +=1\n",
    "      total+=1\n",
    "      #p.append(0)\n",
    "    elif (analysis.sentiment.polarity<0.00):\n",
    "       negative +=1\n",
    "       p.append(-1)\n",
    "       total+=1\n",
    "       corpus.append(review)\n",
    "    elif (analysis.sentiment.polarity>0.00):\n",
    "      positive +=1 \n",
    "      total+=1\n",
    "      p.append(1)\n",
    "      corpus.append(review)"
   ]
  },
  {
   "cell_type": "code",
   "execution_count": 9,
   "metadata": {},
   "outputs": [
    {
     "name": "stdout",
     "output_type": "stream",
     "text": [
      "['#whangarei northland #nouvellezelande: naughti north comedi club - christma special 20 dec 2018… https://t.co/kxtpgwztfb', '#napier hawk bay #newzealand: napier citi christma late night 20 dec 2018 https://t.co/eaxtaeqwlm https://t.co/hpjnsk9bqr', 'rt @seomraranga: christma journey - free season onlin pictur book https://t.co/gtrypm9o6 #edchati https://t.co/vnlcpa9cii', \"rt @seomraranga: schnitzel' first christma - free season onlin pictur book https://t.co/mzsanufqx #edchati https://t.co/sr3jmumnlb\", \"rt @seomraranga: waldo' christma surpris - onlin free season pictur book https://t.co/xtvqdedret #edchati https://t.co/f0k95luxz7\", 'christma journey - free season onlin pictur book https://t.co/gtrypm9o6 #edchati https://t.co/vnlcpa9cii', \"schnitzel' first christma - free season onlin pictur book https://t.co/mzsanufqx #edchati https://t.co/sr3jmumnlb\", \"waldo' christma surpris - onlin free season pictur book https://t.co/xtvqdedret #edchati https://t.co/f0k95luxz7\", 'dunedin #otago #newzealand: larnach castl naughti christma horror ball 14 dec 2018 - 15 dec 2018… https://t.co/hizcz3ecb', 'anong regalo gusto mong makuha christma na di aabot ng 300? — parang ayoko na kasi ng libro eh hahahaha pero… https://t.co/ijutzwrbpb', 'new plymouth #taranaki #newzealand: operatunity: cinderella - christma pantomim 14 dec 2018… https://t.co/nxxtqfishg', '#tokoroa waikato #newzealand: taupo christma classic 13 dec 2018 - 16 dec 2018 https://t.co/zt6llfdorg https://t.co/vixz5mdxcb']\n",
      "[1, -1, 1, 1, 1, 1, 1, 1, -1, 1, 1, 1]\n",
      "10\n",
      "2\n",
      "23\n",
      "35\n"
     ]
    }
   ],
   "source": [
    "print (corpus)\n",
    "print (p)\n",
    "print (positive)\n",
    "print (negative)\n",
    "print (neutral)\n",
    "print (total)\n"
   ]
  },
  {
   "cell_type": "code",
   "execution_count": 10,
   "metadata": {},
   "outputs": [],
   "source": [
    "positive = percentage(positive,total)\n",
    "negative = percentage(negative,total)\n",
    "neutral = percentage(neutral,total)\n",
    "positive=format(positive,'.2f')\n",
    "negative=format(negative,'.2f')\n",
    "neutral=format(neutral,'.2f')"
   ]
  },
  {
   "cell_type": "code",
   "execution_count": 11,
   "metadata": {},
   "outputs": [
    {
     "name": "stdout",
     "output_type": "stream",
     "text": [
      "how pepole are reacting on christmas by analyzing 100 tweets.\n",
      "neurtal\n"
     ]
    }
   ],
   "source": [
    "print (\"how pepole are reacting on \"+searchTerm+\" by analyzing \"+str(numofSearch)+\" tweets.\")\n",
    "\n",
    "if (polarity ==0):\n",
    "    print (\"neurtal\")\n",
    "elif (polarity<0):\n",
    "    print(\"Negative\")\n",
    "elif (polarity >0):\n",
    "    print(\"positive\")"
   ]
  },
  {
   "cell_type": "code",
   "execution_count": 12,
   "metadata": {},
   "outputs": [
    {
     "data": {
      "image/png": "[encoded data removed]",
      "text/plain": [
       "<Figure size 432x288 with 1 Axes>"
      ]
     },
     "metadata": {},
     "output_type": "display_data"
    }
   ],
   "source": [
    "labels = ['positive['+str(positive)+'%]', 'negative['+str(negative)+'%]', 'neutral['+str(neutral)+'%]']\n",
    "size = [positive,negative,neutral]\n",
    "color = ['green','red','blue']\n",
    "patches , text = plt.pie (size , colors=color,startangle=90)\n",
    "plt.legend(patches,labels,loc=\"best\")\n",
    "plt.title('Sentiment about '+searchTerm+' by '+str(numofSearch)+' tweets.')\n",
    "plt.axis('equal')\n",
    "plt.tight_layout()\n",
    "plt.show()"
   ]
  },
  {
   "cell_type": "code",
   "execution_count": 13,
   "metadata": {},
   "outputs": [],
   "source": [
    "from sklearn.feature_extraction.text import CountVectorizer\n",
    "cv = CountVectorizer(max_features = 100)\n",
    "X = cv.fit_transform(corpus).toarray()\n",
    "y = p"
   ]
  },
  {
   "cell_type": "code",
   "execution_count": 14,
   "metadata": {},
   "outputs": [
    {
     "name": "stderr",
     "output_type": "stream",
     "text": [
      "C:\\Users\\Lenovo\\Anaconda3\\lib\\site-packages\\sklearn\\cross_validation.py:41: DeprecationWarning: This module was deprecated in version 0.18 in favor of the model_selection module into which all the refactored classes and functions are moved. Also note that the interface of the new CV iterators are different from that of this module. This module will be removed in 0.20.\n",
      "  \"This module will be removed in 0.20.\", DeprecationWarning)\n"
     ]
    }
   ],
   "source": [
    "from sklearn.cross_validation import train_test_split"
   ]
  },
  {
   "cell_type": "code",
   "execution_count": 15,
   "metadata": {},
   "outputs": [],
   "source": [
    "X_train, X_test, y_train, y_test = train_test_split( X , y , test_size=.5, random_state = 10)"
   ]
  },
  {
   "cell_type": "code",
   "execution_count": 16,
   "metadata": {},
   "outputs": [],
   "source": [
    "from sklearn import naive_bayes"
   ]
  },
  {
   "cell_type": "code",
   "execution_count": 17,
   "metadata": {},
   "outputs": [
    {
     "data": {
      "text/plain": [
       "MultinomialNB(alpha=1.0, class_prior=None, fit_prior=True)"
      ]
     },
     "execution_count": 17,
     "metadata": {},
     "output_type": "execute_result"
    }
   ],
   "source": [
    "clf =naive_bayes.MultinomialNB()\n",
    "clf.fit(X_train,y_train)"
   ]
  },
  {
   "cell_type": "code",
   "execution_count": 18,
   "metadata": {},
   "outputs": [],
   "source": [
    "from sklearn.metrics import confusion_matrix, roc_auc_score"
   ]
  },
  {
   "cell_type": "code",
   "execution_count": 19,
   "metadata": {},
   "outputs": [
    {
     "data": {
      "text/plain": [
       "1.0"
      ]
     },
     "execution_count": 19,
     "metadata": {},
     "output_type": "execute_result"
    }
   ],
   "source": [
    "roc_auc_score(y_test,clf.predict_proba(X_test)[:,1])"
   ]
  },
  {
   "cell_type": "code",
   "execution_count": 20,
   "metadata": {},
   "outputs": [],
   "source": [
    "from sklearn.tree import DecisionTreeClassifier\n",
    "from sklearn.metrics import accuracy_score"
   ]
  },
  {
   "cell_type": "code",
   "execution_count": 21,
   "metadata": {},
   "outputs": [],
   "source": [
    "logreg = DecisionTreeClassifier()"
   ]
  },
  {
   "cell_type": "code",
   "execution_count": 22,
   "metadata": {},
   "outputs": [
    {
     "data": {
      "text/plain": [
       "DecisionTreeClassifier(class_weight=None, criterion='gini', max_depth=None,\n",
       "            max_features=None, max_leaf_nodes=None,\n",
       "            min_impurity_decrease=0.0, min_impurity_split=None,\n",
       "            min_samples_leaf=1, min_samples_split=2,\n",
       "            min_weight_fraction_leaf=0.0, presort=False, random_state=None,\n",
       "            splitter='best')"
      ]
     },
     "execution_count": 22,
     "metadata": {},
     "output_type": "execute_result"
    }
   ],
   "source": [
    "logreg.fit(X_train,y_train)"
   ]
  },
  {
   "cell_type": "code",
   "execution_count": 23,
   "metadata": {},
   "outputs": [],
   "source": [
    "y_pred=logreg.predict(X_test)"
   ]
  },
  {
   "cell_type": "code",
   "execution_count": 24,
   "metadata": {},
   "outputs": [
    {
     "name": "stdout",
     "output_type": "stream",
     "text": [
      "0.8333333333333334\n"
     ]
    }
   ],
   "source": [
    "accuracy=accuracy_score(y_test,y_pred)\n",
    "print(accuracy)"
   ]
  },
  {
   "cell_type": "code",
   "execution_count": 25,
   "metadata": {},
   "outputs": [],
   "source": [
    "from sklearn.ensemble import RandomForestClassifier"
   ]
  },
  {
   "cell_type": "code",
   "execution_count": 26,
   "metadata": {},
   "outputs": [],
   "source": [
    "forest = RandomForestClassifier(n_estimators=100, random_state=0)"
   ]
  },
  {
   "cell_type": "code",
   "execution_count": 27,
   "metadata": {},
   "outputs": [
    {
     "data": {
      "text/plain": [
       "RandomForestClassifier(bootstrap=True, class_weight=None, criterion='gini',\n",
       "            max_depth=None, max_features='auto', max_leaf_nodes=None,\n",
       "            min_impurity_decrease=0.0, min_impurity_split=None,\n",
       "            min_samples_leaf=1, min_samples_split=2,\n",
       "            min_weight_fraction_leaf=0.0, n_estimators=100, n_jobs=1,\n",
       "            oob_score=False, random_state=0, verbose=0, warm_start=False)"
      ]
     },
     "execution_count": 27,
     "metadata": {},
     "output_type": "execute_result"
    }
   ],
   "source": [
    "forest.fit(X_train, y_train)"
   ]
  },
  {
   "cell_type": "code",
   "execution_count": 28,
   "metadata": {},
   "outputs": [],
   "source": [
    "from sklearn import metrics"
   ]
  },
  {
   "cell_type": "code",
   "execution_count": 29,
   "metadata": {},
   "outputs": [
    {
     "name": "stdout",
     "output_type": "stream",
     "text": [
      "0.8333333333333334\n"
     ]
    }
   ],
   "source": [
    "y_pred= forest.predict(X_test)\n",
    "acc = metrics.accuracy_score(y_test, y_pred)\n",
    "print(acc)"
   ]
  },
  {
   "cell_type": "code",
   "execution_count": null,
   "metadata": {},
   "outputs": [],
   "source": []
  },
  {
   "cell_type": "code",
   "execution_count": null,
   "metadata": {},
   "outputs": [],
   "source": []
  }
 ],
 "metadata": {
  "kernelspec": {
   "display_name": "Python 3",
   "language": "python",
   "name": "python3"
  },
  "language_info": {
   "codemirror_mode": {
    "name": "ipython",
    "version": 3
   },
   "file_extension": ".py",
   "mimetype": "text/x-python",
   "name": "python",
   "nbconvert_exporter": "python",
   "pygments_lexer": "ipython3",
   "version": "3.7.3"
  }
 },
 "nbformat": 4,
 "nbformat_minor": 2
}
